{
  "nbformat": 4,
  "nbformat_minor": 0,
  "metadata": {
    "colab": {
      "name": "MNIST.ipynb",
      "provenance": [],
      "collapsed_sections": [],
      "toc_visible": true,
      "authorship_tag": "ABX9TyM8Bu/4UhbVPMSx3yn33vGp",
      "include_colab_link": true
    },
    "kernelspec": {
      "name": "python3",
      "display_name": "Python 3"
    }
  },
  "cells": [
    {
      "cell_type": "markdown",
      "metadata": {
        "id": "view-in-github",
        "colab_type": "text"
      },
      "source": [
        "<a href=\"https://colab.research.google.com/github/sameerajmera/Deep_Learning_NoteBooks/blob/master/MNIST.ipynb\" target=\"_parent\"><img src=\"https://colab.research.google.com/assets/colab-badge.svg\" alt=\"Open In Colab\"/></a>"
      ]
    },
    {
      "cell_type": "code",
      "metadata": {
        "id": "An2d44VtLH3G",
        "colab_type": "code",
        "colab": {}
      },
      "source": [
        "import pandas as pd\n",
        "import numpy as np\n",
        "from keras.datasets import mnist"
      ],
      "execution_count": 5,
      "outputs": []
    },
    {
      "cell_type": "markdown",
      "metadata": {
        "id": "eAB2ZgsJ6xX-",
        "colab_type": "text"
      },
      "source": [
        "# Downloading dataset"
      ]
    },
    {
      "cell_type": "code",
      "metadata": {
        "id": "vKq_v1A7XxZe",
        "colab_type": "code",
        "colab": {
          "base_uri": "https://localhost:8080/",
          "height": 51
        },
        "outputId": "dfd91f7e-4c25-497f-c27a-acc64b8a349d"
      },
      "source": [
        "(train_image,train_labels),(test_image,test_labels) = mnist.load_data()"
      ],
      "execution_count": 6,
      "outputs": [
        {
          "output_type": "stream",
          "text": [
            "Downloading data from https://s3.amazonaws.com/img-datasets/mnist.npz\n",
            "11493376/11490434 [==============================] - 0s 0us/step\n"
          ],
          "name": "stdout"
        }
      ]
    },
    {
      "cell_type": "code",
      "metadata": {
        "id": "1RUIs0xx5RjD",
        "colab_type": "code",
        "colab": {
          "base_uri": "https://localhost:8080/",
          "height": 34
        },
        "outputId": "8b660bb7-dc8d-4148-e1b0-d8a92389a778"
      },
      "source": [
        ""
      ],
      "execution_count": 12,
      "outputs": [
        {
          "output_type": "execute_result",
          "data": {
            "text/plain": [
              "(60000, 28, 28)"
            ]
          },
          "metadata": {
            "tags": []
          },
          "execution_count": 12
        }
      ]
    },
    {
      "cell_type": "markdown",
      "metadata": {
        "id": "w2_R_-LE51oK",
        "colab_type": "text"
      },
      "source": [
        "# The network Architecture"
      ]
    },
    {
      "cell_type": "code",
      "metadata": {
        "id": "AAYbf2xTvk3R",
        "colab_type": "code",
        "colab": {}
      },
      "source": [
        "from keras import  models\n",
        "from keras import layers"
      ],
      "execution_count": 13,
      "outputs": []
    },
    {
      "cell_type": "code",
      "metadata": {
        "id": "dDxwvUux6DJb",
        "colab_type": "code",
        "colab": {}
      },
      "source": [
        "network = models.Sequential()\n",
        "network.add(layers.Dense(512,activation='relu', input_shape=(28*28,)))\n",
        "network.add(layers.Dense(10, activation='softmax'))"
      ],
      "execution_count": 15,
      "outputs": []
    },
    {
      "cell_type": "markdown",
      "metadata": {
        "id": "EogQW6e77n23",
        "colab_type": "text"
      },
      "source": [
        "# The Compilation Step"
      ]
    },
    {
      "cell_type": "code",
      "metadata": {
        "id": "1pLMwpVT7r0v",
        "colab_type": "code",
        "colab": {}
      },
      "source": [
        "network.compile(optimizer='rmsprop',\n",
        "                loss='categorical_crossentropy',\n",
        "                metrics=['accuracy'])"
      ],
      "execution_count": 16,
      "outputs": []
    },
    {
      "cell_type": "code",
      "metadata": {
        "id": "zQCQ-aWW762Z",
        "colab_type": "code",
        "colab": {}
      },
      "source": [
        "train_images = train_image.reshape((60000,28*28))\n",
        "train_images = train_images.astype('float32') / 255\n",
        "\n",
        "test_images = test_image.reshape((10000,28*28))\n",
        "test_images = test_images.astype('float32')/255"
      ],
      "execution_count": 18,
      "outputs": []
    },
    {
      "cell_type": "markdown",
      "metadata": {
        "id": "x7H__q4H9qgR",
        "colab_type": "text"
      },
      "source": [
        "# Preparing the labels"
      ]
    },
    {
      "cell_type": "code",
      "metadata": {
        "id": "Ni9Iy-JG9SVU",
        "colab_type": "code",
        "colab": {}
      },
      "source": [
        "from keras.utils import to_categorical\n",
        "\n",
        "train_labels = to_categorical(train_labels)\n",
        "\n",
        "test_labels = to_categorical(test_labels)"
      ],
      "execution_count": 19,
      "outputs": []
    },
    {
      "cell_type": "markdown",
      "metadata": {
        "id": "UxCxzjbd-ALw",
        "colab_type": "text"
      },
      "source": [
        "# Training The Model"
      ]
    },
    {
      "cell_type": "code",
      "metadata": {
        "id": "aB3-_YXe-Hti",
        "colab_type": "code",
        "colab": {
          "base_uri": "https://localhost:8080/",
          "height": 224
        },
        "outputId": "ee1192a0-9f76-450c-ce22-c70b7df14733"
      },
      "source": [
        "network.fit(train_images , train_labels, epochs=5, batch_size=128)"
      ],
      "execution_count": 20,
      "outputs": [
        {
          "output_type": "stream",
          "text": [
            "Epoch 1/5\n",
            "60000/60000 [==============================] - 5s 79us/step - loss: 0.2562 - accuracy: 0.9254\n",
            "Epoch 2/5\n",
            "60000/60000 [==============================] - 5s 75us/step - loss: 0.1044 - accuracy: 0.9692\n",
            "Epoch 3/5\n",
            "60000/60000 [==============================] - 5s 75us/step - loss: 0.0693 - accuracy: 0.9789\n",
            "Epoch 4/5\n",
            "60000/60000 [==============================] - 5s 75us/step - loss: 0.0503 - accuracy: 0.9848\n",
            "Epoch 5/5\n",
            "60000/60000 [==============================] - 5s 76us/step - loss: 0.0380 - accuracy: 0.9888\n"
          ],
          "name": "stdout"
        },
        {
          "output_type": "execute_result",
          "data": {
            "text/plain": [
              "<keras.callbacks.callbacks.History at 0x7f4bf869cd68>"
            ]
          },
          "metadata": {
            "tags": []
          },
          "execution_count": 20
        }
      ]
    },
    {
      "cell_type": "markdown",
      "metadata": {
        "id": "IqTYxetN_xxR",
        "colab_type": "text"
      },
      "source": [
        "# Evaluate Test Set Of Model"
      ]
    },
    {
      "cell_type": "code",
      "metadata": {
        "id": "90IApMDm_3NC",
        "colab_type": "code",
        "colab": {
          "base_uri": "https://localhost:8080/",
          "height": 34
        },
        "outputId": "c778dbcf-da07-42e6-95cc-2ba57ec8659d"
      },
      "source": [
        "test_loss, test_acc = network.evaluate(test_images, test_labels)"
      ],
      "execution_count": 22,
      "outputs": [
        {
          "output_type": "stream",
          "text": [
            "10000/10000 [==============================] - 1s 52us/step\n"
          ],
          "name": "stdout"
        }
      ]
    },
    {
      "cell_type": "code",
      "metadata": {
        "id": "JG_B3FOrARFQ",
        "colab_type": "code",
        "colab": {
          "base_uri": "https://localhost:8080/",
          "height": 34
        },
        "outputId": "54e6605a-cae7-4e51-92b1-b1b53f98b42d"
      },
      "source": [
        "print(test_acc)"
      ],
      "execution_count": 23,
      "outputs": [
        {
          "output_type": "stream",
          "text": [
            "0.9797999858856201\n"
          ],
          "name": "stdout"
        }
      ]
    },
    {
      "cell_type": "code",
      "metadata": {
        "id": "_7qJYlO5Af-I",
        "colab_type": "code",
        "colab": {}
      },
      "source": [
        ""
      ],
      "execution_count": null,
      "outputs": []
    }
  ]
}